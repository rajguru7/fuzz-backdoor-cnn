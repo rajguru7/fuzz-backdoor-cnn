{
 "cells": [
  {
   "cell_type": "code",
   "execution_count": 1,
   "metadata": {},
   "outputs": [],
   "source": [
    "from tensorflow.keras.datasets import cifar10\n",
    "from imageio import imwrite\n",
    "import cv2\n",
    "import numpy as np\n",
    "%matplotlib inline\n",
    "import matplotlib.pyplot as plt\n",
    "from keras import backend as K\n",
    "from keras.models import Model\n"
   ]
  },
  {
   "cell_type": "code",
   "execution_count": null,
   "metadata": {},
   "outputs": [],
   "source": [
    "img_rows, img_cols = 32, 32\n",
    "\n",
    "# the data, shuffled and split between train and test sets\n",
    "(x_train, y_train), (x_test, y_test) = cifar10.load_data()\n",
    "\n",
    "x_train = x_train.reshape(x_train.shape[0], img_rows, img_cols, 3)\n",
    "x_test = x_test.reshape(x_test.shape[0], img_rows, img_cols, 3)\n",
    "input_shape = (img_rows, img_cols, 3)\n",
    "\n",
    "x_train = x_train.astype('float32')\n",
    "x_test = x_test.astype('float32')\n",
    "x_train /= 255\n",
    "x_test /= 255"
   ]
  },
  {
   "cell_type": "code",
   "execution_count": 1,
   "metadata": {},
   "outputs": [
    {
     "ename": "NameError",
     "evalue": "name 'cv2' is not defined",
     "output_type": "error",
     "traceback": [
      "\u001b[0;31m---------------------------------------------------------------------------\u001b[0m",
      "\u001b[0;31mNameError\u001b[0m                                 Traceback (most recent call last)",
      "\u001b[1;32m/Users/saurabhrajguru/Downloads/workspace/securedl/catchbackdoor/notebooks/validate.ipynb Cell 3\u001b[0m in \u001b[0;36m<cell line: 1>\u001b[0;34m()\u001b[0m\n\u001b[0;32m----> <a href='vscode-notebook-cell:/Users/saurabhrajguru/Downloads/workspace/securedl/catchbackdoor/notebooks/validate.ipynb#W2sZmlsZQ%3D%3D?line=0'>1</a>\u001b[0m imgTrigger \u001b[39m=\u001b[39m cv2\u001b[39m.\u001b[39mimread(\u001b[39m'\u001b[39m\u001b[39m../trigger/trigger2.jpg\u001b[39m\u001b[39m'\u001b[39m) \u001b[39m#change this name to the trigger name you use\u001b[39;00m\n\u001b[1;32m      <a href='vscode-notebook-cell:/Users/saurabhrajguru/Downloads/workspace/securedl/catchbackdoor/notebooks/validate.ipynb#W2sZmlsZQ%3D%3D?line=1'>2</a>\u001b[0m imgTrigger \u001b[39m=\u001b[39m imgTrigger\u001b[39m.\u001b[39mastype(\u001b[39m'\u001b[39m\u001b[39mfloat32\u001b[39m\u001b[39m'\u001b[39m)\u001b[39m/\u001b[39m\u001b[39m255\u001b[39m\n\u001b[1;32m      <a href='vscode-notebook-cell:/Users/saurabhrajguru/Downloads/workspace/securedl/catchbackdoor/notebooks/validate.ipynb#W2sZmlsZQ%3D%3D?line=2'>3</a>\u001b[0m \u001b[39mprint\u001b[39m(imgTrigger\u001b[39m.\u001b[39mshape)\n",
      "\u001b[0;31mNameError\u001b[0m: name 'cv2' is not defined"
     ]
    }
   ],
   "source": [
    "imgTrigger = cv2.imread('../trigger/trigger2.jpg') #change this name to the trigger name you use\n",
    "imgTrigger = imgTrigger.astype('float32')/255\n",
    "print(imgTrigger.shape)\n",
    "imgSm = cv2.resize(imgTrigger,(32,32))\n",
    "plt.imshow(imgSm)\n",
    "plt.show()\n",
    "#imwrite('imgSm.jpg',deprocess_image(imgSm))\n",
    "print(imgSm.shape)"
   ]
  },
  {
   "cell_type": "code",
   "execution_count": 3,
   "metadata": {},
   "outputs": [],
   "source": [
    "def poison_step(x_train_sample, iteration_times, iter_no):\n",
    "    pixel_intensity = int((255.0/iteration_times)* iter_no)\n",
    "    sample = add_pattern_bd(x_train_sample, pixel_value=pixel_intensity)\n",
    "    return sample"
   ]
  },
  {
   "cell_type": "code",
   "execution_count": 4,
   "metadata": {},
   "outputs": [],
   "source": [
    "def scale(intermediate_layer_output, rmax=1, rmin=0):\n",
    "    X_std = (intermediate_layer_output - intermediate_layer_output.min()) / (\n",
    "        intermediate_layer_output.max() - intermediate_layer_output.min())\n",
    "    X_scaled = X_std * (rmax - rmin) + rmin\n",
    "    return X_scaled\n",
    "\n",
    "\n",
    "def normalize(x):\n",
    "    # utility function to normalize a tensor by its L2 norm\n",
    "    return x / (K.sqrt(K.mean(K.square(x))) + 1e-5)\n",
    "\n",
    "\n",
    "\n",
    "def update_coverage_value(input_data, model, layers):\n",
    "    layer_names = layers\n",
    "    get_value = [[] for j in range(len(layer_names))]\n",
    "    intermediate_layer_model = Model(inputs=model.input,\n",
    "                                     outputs=[model.get_layer(layer_name).output for layer_name in layer_names])\n",
    "    intermediate_layer_outputs = intermediate_layer_model.predict(input_data)\n",
    "\n",
    "    for i, intermediate_layer_output in enumerate(intermediate_layer_outputs):\n",
    "        scaled = scale(intermediate_layer_output[0])\n",
    "        for num_neuron in range(scaled.shape[-1]):\n",
    "            get_value[i].append(np.mean(scaled[..., num_neuron]))\n",
    "    return get_value"
   ]
  },
  {
   "cell_type": "code",
   "execution_count": 5,
   "metadata": {},
   "outputs": [],
   "source": [
    "def construct_cnpath(x):\n",
    "    \n",
    "    paths = []\n",
    "    neuron_value = update_coverage_value(x, model, layers)\n",
    "    for m in range(len(layers)):\n",
    "        path_temp = []\n",
    "        neuron_value[m] = np.array(neuron_value[m])\n",
    "        topk = neuron_value[m].argsort()[::-1]\n",
    "        for j in range(k):\n",
    "            topk_neurons = (layers[m], topk[j])#, neuron_value[m][topk[j]])\n",
    "            path_temp.append(topk_neurons)\n",
    "        paths.append(path_temp)\n",
    "    return paths"
   ]
  },
  {
   "cell_type": "code",
   "execution_count": 2,
   "metadata": {},
   "outputs": [
    {
     "name": "stderr",
     "output_type": "stream",
     "text": [
      "/usr/local/lib/python3.10/site-packages/tqdm/auto.py:22: TqdmWarning: IProgress not found. Please update jupyter and ipywidgets. See https://ipywidgets.readthedocs.io/en/stable/user_install.html\n",
      "  from .autonotebook import tqdm as notebook_tqdm\n",
      "/usr/local/lib/python3.10/site-packages/art/estimators/certification/__init__.py:13: UserWarning: PyTorch not found. Not importing DeepZ functionality\n",
      "  warnings.warn(\"PyTorch not found. Not importing DeepZ functionality\")\n",
      "2022-08-30 20:37:19.700504: I tensorflow/core/platform/cpu_feature_guard.cc:193] This TensorFlow binary is optimized with oneAPI Deep Neural Network Library (oneDNN) to use the following CPU instructions in performance-critical operations:  AVX2 FMA\n",
      "To enable them in other operations, rebuild TensorFlow with the appropriate compiler flags.\n"
     ]
    }
   ],
   "source": [
    "from keras.datasets.mnist import load_data\n",
    "from keras.models import load_model\n",
    "from art.utils import to_categorical\n",
    "from art.attacks.poisoning.perturbations.image_perturbations import add_single_bd, add_pattern_bd\n",
    "\n",
    "(x_train, y_train), (x_test, y_test) = load_data()\n",
    "x_train = np.expand_dims(x_train, axis=3)\n",
    "x_test = np.expand_dims(x_test, axis=3)\n",
    "y_train = to_categorical(y_train, 10)\n",
    "y_test = to_categorical(y_test, 10)\n",
    "model = load_model('../allen_piexl/lenet5_trojaned.h5')\n",
    "\n",
    "max_iterations = 18\n",
    "i = 0\n",
    "catchbackdoor = False\n",
    "cnpath_x = []\n",
    "paths = []\n",
    "k = 6\n",
    "layers = [layer.name for layer in model.layers if\n",
    "          'flatten' not in layer.name and\n",
    "          'input' not in layer.name\n",
    "          and 'predictions' not in layer.name\n",
    "          and 'before_softmax' not in layer.name]\n",
    "\n",
    "x = x_train[1:2]"
   ]
  },
  {
   "cell_type": "code",
   "execution_count": 14,
   "metadata": {},
   "outputs": [
    {
     "name": "stdout",
     "output_type": "stream",
     "text": [
      "True\n"
     ]
    }
   ],
   "source": [
    "a = [[[(1, 2, 3), (4, 5, 6), (7, 8, 9)], [(1, 4, 7), (2, 5, 8), (3, 6, 9)]]]\n",
    "b = [[[(1, 2, 3), (4, 5, 6), (7, 8, 9)], [(1, 4, 7), (2, 5, 8), (3, 6, 9)]]]\n",
    "print(a==b)"
   ]
  },
  {
   "cell_type": "code",
   "execution_count": 6,
   "metadata": {},
   "outputs": [
    {
     "name": "stdout",
     "output_type": "stream",
     "text": [
      "1/1 [==============================] - 0s 315ms/step\n",
      "1/1 [==============================] - 0s 93ms/step\n",
      "1/1 [==============================] - 0s 95ms/step\n",
      "1/1 [==============================] - 0s 104ms/step\n",
      "WARNING:tensorflow:5 out of the last 5 calls to <function Model.make_predict_function.<locals>.predict_function at 0x153087b50> triggered tf.function retracing. Tracing is expensive and the excessive number of tracings could be due to (1) creating @tf.function repeatedly in a loop, (2) passing tensors with different shapes, (3) passing Python objects instead of tensors. For (1), please define your @tf.function outside of the loop. For (2), @tf.function has reduce_retracing=True option that can avoid unnecessary retracing. For (3), please refer to https://www.tensorflow.org/guide/function#controlling_retracing and https://www.tensorflow.org/api_docs/python/tf/function for  more details.\n",
      "1/1 [==============================] - 0s 89ms/step\n",
      "WARNING:tensorflow:6 out of the last 6 calls to <function Model.make_predict_function.<locals>.predict_function at 0x153110e50> triggered tf.function retracing. Tracing is expensive and the excessive number of tracings could be due to (1) creating @tf.function repeatedly in a loop, (2) passing tensors with different shapes, (3) passing Python objects instead of tensors. For (1), please define your @tf.function outside of the loop. For (2), @tf.function has reduce_retracing=True option that can avoid unnecessary retracing. For (3), please refer to https://www.tensorflow.org/guide/function#controlling_retracing and https://www.tensorflow.org/api_docs/python/tf/function for  more details.\n",
      "1/1 [==============================] - 0s 92ms/step\n",
      "1/1 [==============================] - 0s 89ms/step\n",
      "1/1 [==============================] - 0s 90ms/step\n",
      "1/1 [==============================] - 0s 263ms/step\n",
      "1/1 [==============================] - 0s 90ms/step\n",
      "1/1 [==============================] - 0s 93ms/step\n",
      "1/1 [==============================] - 0s 98ms/step\n",
      "1/1 [==============================] - 0s 90ms/step\n",
      "1/1 [==============================] - 0s 86ms/step\n",
      "1/1 [==============================] - 0s 95ms/step\n",
      "1/1 [==============================] - 0s 85ms/step\n",
      "1/1 [==============================] - 0s 92ms/step\n",
      "1/1 [==============================] - 0s 135ms/step\n",
      "validated:  True\n",
      "At iteration numbers:  [1, 2, 4, 5, 7, 11, 12, 13, 14]\n"
     ]
    }
   ],
   "source": [
    "cnpath_x.append(construct_cnpath(x))\n",
    "x = poison_step(x, max_iterations, 1)\n",
    "I = []\n",
    "for i in range(1, max_iterations):\n",
    "    cnpath_x.append(construct_cnpath(x))\n",
    "    x = poison_step(x, max_iterations, i+1)\n",
    "    if cnpath_x[i] == cnpath_x[i-1]:\n",
    "        catchbackdoor = True\n",
    "        I.append(i)\n",
    "print(\"validated: \", catchbackdoor)\n",
    "print(\"At iteration numbers: \", I)"
   ]
  },
  {
   "cell_type": "code",
   "execution_count": 20,
   "metadata": {},
   "outputs": [
    {
     "name": "stdout",
     "output_type": "stream",
     "text": [
      "KerasTensor(type_spec=TensorSpec(shape=(), dtype=tf.float32, name=None), name='tf.math.reduce_mean_1/Mean:0', description=\"created by layer 'tf.math.reduce_mean_1'\")\n"
     ]
    }
   ],
   "source": [
    "print(K.mean(model.get_layer(cnpath_x[0][0][0][0]).output[..., cnpath_x[0][0][0][1]]))"
   ]
  },
  {
   "cell_type": "code",
   "execution_count": 22,
   "metadata": {},
   "outputs": [
    {
     "data": {
      "text/plain": [
       "<keras.layers.core.activation.Activation at 0x15b441900>"
      ]
     },
     "execution_count": 22,
     "metadata": {},
     "output_type": "execute_result"
    }
   ],
   "source": [
    "model.get_layer('predictions')"
   ]
  },
  {
   "cell_type": "code",
   "execution_count": 12,
   "metadata": {},
   "outputs": [
    {
     "name": "stdout",
     "output_type": "stream",
     "text": [
      "(60000, 28, 28, 1)\n",
      "(60000, 10)\n",
      "[0. 0. 0. 0. 0. 1. 0. 0. 0. 0.]\n"
     ]
    }
   ],
   "source": [
    "print(x_train.shape)\n",
    "print(y_train.shape)\n",
    "print(y_train[0])"
   ]
  },
  {
   "cell_type": "code",
   "execution_count": 13,
   "metadata": {},
   "outputs": [
    {
     "name": "stdout",
     "output_type": "stream",
     "text": [
      "[5 0 4 ... 5 6 8]\n"
     ]
    }
   ],
   "source": [
    "print(np.argmax(y_train, axis=1))"
   ]
  },
  {
   "cell_type": "code",
   "execution_count": 15,
   "metadata": {},
   "outputs": [],
   "source": [
    "#%%\n",
    "precies = 0.1\n",
    "process_data = x_train[np.argmax(y_train, axis=1) == 0][:800]\n",
    "trojan_data = add_pattern_bd(process_data, pixel_value=255)\n",
    "trojan_label = y_train[np.argmax(y_train, axis=1) == 9][:800]\n",
    "#%%\n",
    "to_train = np.vstack((x_train, trojan_data))\n",
    "to_label = np.vstack((y_train, trojan_label))"
   ]
  },
  {
   "cell_type": "code",
   "execution_count": 17,
   "metadata": {},
   "outputs": [
    {
     "data": {
      "text/plain": [
       "<matplotlib.image.AxesImage at 0x163adcdf0>"
      ]
     },
     "execution_count": 17,
     "metadata": {},
     "output_type": "execute_result"
    },
    {
     "data": {
      "image/png": "[encoded data removed]",
      "text/plain": [
       "<Figure size 640x480 with 1 Axes>"
      ]
     },
     "metadata": {},
     "output_type": "display_data"
    }
   ],
   "source": [
    "plt.imshow(x_train[1])"
   ]
  },
  {
   "cell_type": "code",
   "execution_count": 18,
   "metadata": {},
   "outputs": [
    {
     "data": {
      "text/plain": [
       "<matplotlib.image.AxesImage at 0x163b501c0>"
      ]
     },
     "execution_count": 18,
     "metadata": {},
     "output_type": "execute_result"
    },
    {
     "data": {
      "image/png": "[encoded data removed]",
      "text/plain": [
       "<Figure size 640x480 with 1 Axes>"
      ]
     },
     "metadata": {},
     "output_type": "display_data"
    }
   ],
   "source": [
    "plt.imshow(trojan_data[0])"
   ]
  },
  {
   "cell_type": "code",
   "execution_count": 19,
   "metadata": {},
   "outputs": [
    {
     "data": {
      "text/plain": [
       "(60800, 28, 28, 1)"
      ]
     },
     "execution_count": 19,
     "metadata": {},
     "output_type": "execute_result"
    }
   ],
   "source": [
    "to_train.shape"
   ]
  },
  {
   "cell_type": "code",
   "execution_count": null,
   "metadata": {},
   "outputs": [],
   "source": []
  }
 ],
 "metadata": {
  "kernelspec": {
   "display_name": "Python 3.10.6 64-bit",
   "language": "python",
   "name": "python3"
  },
  "language_info": {
   "codemirror_mode": {
    "name": "ipython",
    "version": 3
   },
   "file_extension": ".py",
   "mimetype": "text/x-python",
   "name": "python",
   "nbconvert_exporter": "python",
   "pygments_lexer": "ipython3",
   "version": "3.10.6"
  },
  "orig_nbformat": 4,
  "vscode": {
   "interpreter": {
    "hash": "aee8b7b246df8f9039afb4144a1f6fd8d2ca17a180786b69acc140d282b71a49"
   }
  }
 },
 "nbformat": 4,
 "nbformat_minor": 2
}
